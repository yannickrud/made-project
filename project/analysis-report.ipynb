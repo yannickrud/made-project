{
 "cells": [
  {
   "cell_type": "markdown",
   "metadata": {},
   "source": [
    "# Final Report\n",
    "\n",
    "## Introduction\n",
    "\n",
    "Nowadays, as it affects us all climate change is a hot topic. \n",
    "\n",
    "Therefore this project answers the question how did the number and types of weather phenomena in Germany changed over time?\n",
    "\n",
    "## Used data\n",
    "\n",
    "The data used for this project is provided by the German weather service which is called Deutscher Wetterdienst (DWD). \n",
    "\n",
    "- Obligations with licsence\n",
    "- inital 998 datensätze/wetterstationen, die Daten über Wettereregnisse bereitstellen\n",
    "- QN_4 spalte gibt qualität der Daten an (5 subjektive Verfahren)\n",
    "- Wetterereignisse fehlende Werte werden mit -999 angegeben.\n"
   ]
  },
  {
   "cell_type": "markdown",
   "metadata": {},
   "source": []
  },
  {
   "cell_type": "code",
   "execution_count": null,
   "metadata": {},
   "outputs": [],
   "source": []
  }
 ],
 "metadata": {
  "language_info": {
   "name": "python"
  }
 },
 "nbformat": 4,
 "nbformat_minor": 2
}
