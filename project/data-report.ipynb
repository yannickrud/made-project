{
 "cells": [
  {
   "cell_type": "markdown",
   "id": "5ae953194d7e523a",
   "metadata": {},
   "source": [
    "# Data report\n",
    "Yannick Rudolf, 22722156\n",
    "## Question\n",
    "How have the number and types of weather phenomena in Germany changed over time?"
   ]
  },
  {
   "cell_type": "markdown",
   "id": "99c44088030b6119",
   "metadata": {},
   "source": [
    "## Data sources\n",
    "Die Quellen zum beantworten der Frage sind 999 datensätze \n",
    "### Why\n",
    "\n",
    "### where is the data from\n",
    "The data is provided by the \n",
    "\n",
    "\n",
    "### data structure and quality \n",
    "Compare lecture D01\n",
    "\n",
    "### License"
   ]
  },
  {
   "cell_type": "markdown",
   "id": "cca2275e25d1544d",
   "metadata": {},
   "source": [
    "# Data pipeline\n",
    "\n"
   ]
  },
  {
   "cell_type": "markdown",
   "id": "667191b99ae5340a",
   "metadata": {},
   "source": [
    "# Results\n",
    "\n",
    "# Limitations\n",
    "\n"
   ]
  }
 ],
 "metadata": {
  "kernelspec": {
   "display_name": "Python 3",
   "language": "python",
   "name": "python3"
  },
  "language_info": {
   "codemirror_mode": {
    "name": "ipython",
    "version": 2
   },
   "file_extension": ".py",
   "mimetype": "text/x-python",
   "name": "python",
   "nbconvert_exporter": "python",
   "pygments_lexer": "ipython2",
   "version": "2.7.6"
  }
 },
 "nbformat": 4,
 "nbformat_minor": 5
}
